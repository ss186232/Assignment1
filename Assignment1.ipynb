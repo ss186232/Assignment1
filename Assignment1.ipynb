{
 "cells": [
  {
   "cell_type": "code",
   "execution_count": 1,
   "metadata": {},
   "outputs": [
    {
     "name": "stdout",
     "output_type": "stream",
     "text": [
      "Enter your First Name ?Sachin\n",
      "Enter your Last Name ?Shetty\n",
      "yttehSnihcaS\n"
     ]
    }
   ],
   "source": [
    "#Question 1\n",
    "first_name=input(\"Enter your First Name ?\")\n",
    "last_name=input(\"Enter your Last Name ?\")\n",
    "full_name=first_name + last_name\n",
    "namelenght=len(full_name)\n",
    "namerevrese=full_name[namelenght::-1]\n",
    "print(namerevrese)"
   ]
  },
  {
   "cell_type": "code",
   "execution_count": 2,
   "metadata": {},
   "outputs": [
    {
     "name": "stdout",
     "output_type": "stream",
     "text": [
      "2002,4011,6027,8050,10087,12131,14182,16240,18312,20391,22477,24570,26677,28791,30912,33040,35182,37331,39487,41650,43827,46011,48202,50400,52612,54831,57057,59290,61537,63791,66052,68320,70602,72891,75187,77490,79807,82131,84462,86800,89152,91511,93877,96250,98637,101031,103432,105840,108262,110691,113127,115570,118027,120491,122962,125440,127932,130431,132937,135450,137977,140511,143052,145600,148162,150731,153307,155890,158487,161091,163702,166320,168952,171591,174237,176890,179557,182231,184912,187600,190302,193011,195727,198450,201187,203931,206682,209440,212212,214991,217777,220570,223377,226191,229012,231840,234682,237531,240387,243250,246127,249011,251902,254800,257712,260631,263557,266490,269437,272391,275352,278320,281302,284291,287287,290290,293307,296331,299362,302400,305452,308511,311577,314650,317737,320831,323932,327040,330162,333291,336427,339570,342727,345891,349062,352240,355432,358631,"
     ]
    }
   ],
   "source": [
    "#Ouestion 2\n",
    "sum1=0\n",
    "for x in range(2000,3200):\n",
    "    if x%7==0 and x%5!=0 :\n",
    "        sum1=sum1+x\n",
    "        print(sum1,end=\",\")\n",
    "   "
   ]
  },
  {
   "cell_type": "code",
   "execution_count": 18,
   "metadata": {},
   "outputs": [
    {
     "name": "stdout",
     "output_type": "stream",
     "text": [
      "Enter the diameter of sphere :12\n",
      "Volume of the sphere:  904.3199999999999\n"
     ]
    }
   ],
   "source": [
    "#Question 3\n",
    "r=float(input(\"Enter the diameter of sphere :\"))\n",
    "pi=3.14\n",
    "v=4/3*pi*(r/2)**3\n",
    "print(\"Volume of the sphere: \",float(v))"
   ]
  },
  {
   "cell_type": "code",
   "execution_count": null,
   "metadata": {},
   "outputs": [],
   "source": []
  }
 ],
 "metadata": {
  "kernelspec": {
   "display_name": "Python 3",
   "language": "python",
   "name": "python3"
  },
  "language_info": {
   "codemirror_mode": {
    "name": "ipython",
    "version": 3
   },
   "file_extension": ".py",
   "mimetype": "text/x-python",
   "name": "python",
   "nbconvert_exporter": "python",
   "pygments_lexer": "ipython3",
   "version": "3.8.5"
  }
 },
 "nbformat": 4,
 "nbformat_minor": 4
}
